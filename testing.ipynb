{
  "cells": [
    {
      "cell_type": "code",
      "execution_count": null,
      "metadata": {
        "id": "WlNrgXSkDryC"
      },
      "outputs": [],
      "source": [
        "%load_ext autoreload\n",
        "%autoreload 2"
      ]
    },
    {
      "cell_type": "code",
      "source": [
        "from google.colab import drive\n",
        "drive.mount('/content/drive')"
      ],
      "metadata": {
        "colab": {
          "base_uri": "https://localhost:8080/"
        },
        "id": "qftTu1YpDt48",
        "outputId": "7daf49fa-a631-4abc-8397-eb71b761df0e"
      },
      "execution_count": 1,
      "outputs": [
        {
          "output_type": "stream",
          "name": "stdout",
          "text": [
            "Mounted at /content/drive\n"
          ]
        }
      ]
    },
    {
      "cell_type": "code",
      "source": [
        "!pip install swig\n",
        "!pip install gymnasium[box2d]\n",
        "!pip install stable-baselines3 gym[box2d]"
      ],
      "metadata": {
        "colab": {
          "base_uri": "https://localhost:8080/"
        },
        "id": "sM1wOG0TD6HV",
        "outputId": "4d052d60-a5d6-456a-e5fe-7663fb8a562d"
      },
      "execution_count": 2,
      "outputs": [
        {
          "output_type": "stream",
          "name": "stdout",
          "text": [
            "Collecting swig\n",
            "  Downloading swig-4.3.0-py2.py3-none-manylinux_2_5_x86_64.manylinux1_x86_64.whl.metadata (3.5 kB)\n",
            "Downloading swig-4.3.0-py2.py3-none-manylinux_2_5_x86_64.manylinux1_x86_64.whl (1.9 MB)\n",
            "\u001b[2K   \u001b[90m━━━━━━━━━━━━━━━━━━━━━━━━━━━━━━━━━━━━━━━━\u001b[0m \u001b[32m1.9/1.9 MB\u001b[0m \u001b[31m20.6 MB/s\u001b[0m eta \u001b[36m0:00:00\u001b[0m\n",
            "\u001b[?25hInstalling collected packages: swig\n",
            "Successfully installed swig-4.3.0\n",
            "Collecting gymnasium[box2d]\n",
            "  Downloading gymnasium-1.0.0-py3-none-any.whl.metadata (9.5 kB)\n",
            "Requirement already satisfied: numpy>=1.21.0 in /usr/local/lib/python3.10/dist-packages (from gymnasium[box2d]) (1.26.4)\n",
            "Requirement already satisfied: cloudpickle>=1.2.0 in /usr/local/lib/python3.10/dist-packages (from gymnasium[box2d]) (3.1.0)\n",
            "Requirement already satisfied: typing-extensions>=4.3.0 in /usr/local/lib/python3.10/dist-packages (from gymnasium[box2d]) (4.12.2)\n",
            "Collecting farama-notifications>=0.0.1 (from gymnasium[box2d])\n",
            "  Downloading Farama_Notifications-0.0.4-py3-none-any.whl.metadata (558 bytes)\n",
            "Collecting box2d-py==2.3.5 (from gymnasium[box2d])\n",
            "  Downloading box2d-py-2.3.5.tar.gz (374 kB)\n",
            "\u001b[2K     \u001b[90m━━━━━━━━━━━━━━━━━━━━━━━━━━━━━━━━━━━━━━━━\u001b[0m \u001b[32m374.4/374.4 kB\u001b[0m \u001b[31m5.3 MB/s\u001b[0m eta \u001b[36m0:00:00\u001b[0m\n",
            "\u001b[?25h  Preparing metadata (setup.py) ... \u001b[?25l\u001b[?25hdone\n",
            "Requirement already satisfied: pygame>=2.1.3 in /usr/local/lib/python3.10/dist-packages (from gymnasium[box2d]) (2.6.1)\n",
            "Requirement already satisfied: swig==4.* in /usr/local/lib/python3.10/dist-packages (from gymnasium[box2d]) (4.3.0)\n",
            "Downloading Farama_Notifications-0.0.4-py3-none-any.whl (2.5 kB)\n",
            "Downloading gymnasium-1.0.0-py3-none-any.whl (958 kB)\n",
            "\u001b[2K   \u001b[90m━━━━━━━━━━━━━━━━━━━━━━━━━━━━━━━━━━━━━━━━\u001b[0m \u001b[32m958.1/958.1 kB\u001b[0m \u001b[31m31.7 MB/s\u001b[0m eta \u001b[36m0:00:00\u001b[0m\n",
            "\u001b[?25hBuilding wheels for collected packages: box2d-py\n",
            "  Building wheel for box2d-py (setup.py) ... \u001b[?25l\u001b[?25hdone\n",
            "  Created wheel for box2d-py: filename=box2d_py-2.3.5-cp310-cp310-linux_x86_64.whl size=2376420 sha256=67d8dc833c6a6160207d906ff6161ad87dc4f84516594b383e8b4a51d45ea31f\n",
            "  Stored in directory: /root/.cache/pip/wheels/db/8f/6a/eaaadf056fba10a98d986f6dce954e6201ba3126926fc5ad9e\n",
            "Successfully built box2d-py\n",
            "Installing collected packages: farama-notifications, box2d-py, gymnasium\n",
            "Successfully installed box2d-py-2.3.5 farama-notifications-0.0.4 gymnasium-1.0.0\n",
            "Collecting stable-baselines3\n",
            "  Downloading stable_baselines3-2.4.0-py3-none-any.whl.metadata (4.5 kB)\n",
            "Requirement already satisfied: gym[box2d] in /usr/local/lib/python3.10/dist-packages (0.25.2)\n",
            "Requirement already satisfied: gymnasium<1.1.0,>=0.29.1 in /usr/local/lib/python3.10/dist-packages (from stable-baselines3) (1.0.0)\n",
            "Requirement already satisfied: numpy<2.0,>=1.20 in /usr/local/lib/python3.10/dist-packages (from stable-baselines3) (1.26.4)\n",
            "Requirement already satisfied: torch>=1.13 in /usr/local/lib/python3.10/dist-packages (from stable-baselines3) (2.5.1+cu121)\n",
            "Requirement already satisfied: cloudpickle in /usr/local/lib/python3.10/dist-packages (from stable-baselines3) (3.1.0)\n",
            "Requirement already satisfied: pandas in /usr/local/lib/python3.10/dist-packages (from stable-baselines3) (2.2.2)\n",
            "Requirement already satisfied: matplotlib in /usr/local/lib/python3.10/dist-packages (from stable-baselines3) (3.8.0)\n",
            "Requirement already satisfied: gym_notices>=0.0.4 in /usr/local/lib/python3.10/dist-packages (from gym[box2d]) (0.0.8)\n",
            "Requirement already satisfied: box2d-py==2.3.5 in /usr/local/lib/python3.10/dist-packages (from gym[box2d]) (2.3.5)\n",
            "Collecting pygame==2.1.0 (from gym[box2d])\n",
            "  Downloading pygame-2.1.0-cp310-cp310-manylinux_2_17_x86_64.manylinux2014_x86_64.whl.metadata (9.5 kB)\n",
            "Requirement already satisfied: swig==4.* in /usr/local/lib/python3.10/dist-packages (from gym[box2d]) (4.3.0)\n",
            "Requirement already satisfied: typing-extensions>=4.3.0 in /usr/local/lib/python3.10/dist-packages (from gymnasium<1.1.0,>=0.29.1->stable-baselines3) (4.12.2)\n",
            "Requirement already satisfied: farama-notifications>=0.0.1 in /usr/local/lib/python3.10/dist-packages (from gymnasium<1.1.0,>=0.29.1->stable-baselines3) (0.0.4)\n",
            "Requirement already satisfied: filelock in /usr/local/lib/python3.10/dist-packages (from torch>=1.13->stable-baselines3) (3.16.1)\n",
            "Requirement already satisfied: networkx in /usr/local/lib/python3.10/dist-packages (from torch>=1.13->stable-baselines3) (3.4.2)\n",
            "Requirement already satisfied: jinja2 in /usr/local/lib/python3.10/dist-packages (from torch>=1.13->stable-baselines3) (3.1.4)\n",
            "Requirement already satisfied: fsspec in /usr/local/lib/python3.10/dist-packages (from torch>=1.13->stable-baselines3) (2024.10.0)\n",
            "Requirement already satisfied: sympy==1.13.1 in /usr/local/lib/python3.10/dist-packages (from torch>=1.13->stable-baselines3) (1.13.1)\n",
            "Requirement already satisfied: mpmath<1.4,>=1.1.0 in /usr/local/lib/python3.10/dist-packages (from sympy==1.13.1->torch>=1.13->stable-baselines3) (1.3.0)\n",
            "Requirement already satisfied: contourpy>=1.0.1 in /usr/local/lib/python3.10/dist-packages (from matplotlib->stable-baselines3) (1.3.1)\n",
            "Requirement already satisfied: cycler>=0.10 in /usr/local/lib/python3.10/dist-packages (from matplotlib->stable-baselines3) (0.12.1)\n",
            "Requirement already satisfied: fonttools>=4.22.0 in /usr/local/lib/python3.10/dist-packages (from matplotlib->stable-baselines3) (4.55.3)\n",
            "Requirement already satisfied: kiwisolver>=1.0.1 in /usr/local/lib/python3.10/dist-packages (from matplotlib->stable-baselines3) (1.4.7)\n",
            "Requirement already satisfied: packaging>=20.0 in /usr/local/lib/python3.10/dist-packages (from matplotlib->stable-baselines3) (24.2)\n",
            "Requirement already satisfied: pillow>=6.2.0 in /usr/local/lib/python3.10/dist-packages (from matplotlib->stable-baselines3) (11.0.0)\n",
            "Requirement already satisfied: pyparsing>=2.3.1 in /usr/local/lib/python3.10/dist-packages (from matplotlib->stable-baselines3) (3.2.0)\n",
            "Requirement already satisfied: python-dateutil>=2.7 in /usr/local/lib/python3.10/dist-packages (from matplotlib->stable-baselines3) (2.8.2)\n",
            "Requirement already satisfied: pytz>=2020.1 in /usr/local/lib/python3.10/dist-packages (from pandas->stable-baselines3) (2024.2)\n",
            "Requirement already satisfied: tzdata>=2022.7 in /usr/local/lib/python3.10/dist-packages (from pandas->stable-baselines3) (2024.2)\n",
            "Requirement already satisfied: six>=1.5 in /usr/local/lib/python3.10/dist-packages (from python-dateutil>=2.7->matplotlib->stable-baselines3) (1.17.0)\n",
            "Requirement already satisfied: MarkupSafe>=2.0 in /usr/local/lib/python3.10/dist-packages (from jinja2->torch>=1.13->stable-baselines3) (3.0.2)\n",
            "Downloading stable_baselines3-2.4.0-py3-none-any.whl (183 kB)\n",
            "\u001b[2K   \u001b[90m━━━━━━━━━━━━━━━━━━━━━━━━━━━━━━━━━━━━━━━━\u001b[0m \u001b[32m183.9/183.9 kB\u001b[0m \u001b[31m3.6 MB/s\u001b[0m eta \u001b[36m0:00:00\u001b[0m\n",
            "\u001b[?25hDownloading pygame-2.1.0-cp310-cp310-manylinux_2_17_x86_64.manylinux2014_x86_64.whl (18.3 MB)\n",
            "\u001b[2K   \u001b[90m━━━━━━━━━━━━━━━━━━━━━━━━━━━━━━━━━━━━━━━━\u001b[0m \u001b[32m18.3/18.3 MB\u001b[0m \u001b[31m77.0 MB/s\u001b[0m eta \u001b[36m0:00:00\u001b[0m\n",
            "\u001b[?25hInstalling collected packages: pygame, stable-baselines3\n",
            "  Attempting uninstall: pygame\n",
            "    Found existing installation: pygame 2.6.1\n",
            "    Uninstalling pygame-2.6.1:\n",
            "      Successfully uninstalled pygame-2.6.1\n",
            "Successfully installed pygame-2.1.0 stable-baselines3-2.4.0\n"
          ]
        }
      ]
    },
    {
      "cell_type": "code",
      "source": [
        "import sys\n",
        "sys.path.append('/content/drive/MyDrive/reinforcement-learning-with-gymnasium-main')"
      ],
      "metadata": {
        "id": "BFSe8F0JD_mF"
      },
      "execution_count": 3,
      "outputs": []
    },
    {
      "cell_type": "code",
      "execution_count": 14,
      "metadata": {
        "id": "tZRlczIvDryE"
      },
      "outputs": [],
      "source": [
        "import numpy as np\n",
        "import gymnasium as gym\n",
        "from gymnasium.wrappers import GrayscaleObservation, ResizeObservation, RecordEpisodeStatistics, RecordVideo, TimeLimit\n",
        "from stable_baselines3 import DQN, PPO\n",
        "from stable_baselines3.common.vec_env import DummyVecEnv, SubprocVecEnv\n",
        "from stable_baselines3.common.callbacks import EvalCallback, CheckpointCallback\n",
        "import os\n",
        "import gc\n",
        "from eval import *\n",
        "from custom_cr import EnhancedCarRacing\n",
        "import pandas as pd"
      ]
    },
    {
      "cell_type": "markdown",
      "metadata": {
        "id": "d5oVmHl0DryF"
      },
      "source": [
        "### 3.1. Task Specific Metrics"
      ]
    },
    {
      "cell_type": "markdown",
      "metadata": {
        "id": "rBP23-dzDryG"
      },
      "source": [
        "#### 3.1.1. Baseline DQN"
      ]
    },
    {
      "cell_type": "code",
      "execution_count": null,
      "metadata": {
        "id": "mivEBw3wDryH",
        "outputId": "17147a24-0070-4794-ecf5-15cc98b11962"
      },
      "outputs": [
        {
          "name": "stdout",
          "output_type": "stream",
          "text": [
            "Keys in evaluations.npz: ['timesteps', 'results', 'ep_lengths']\n"
          ]
        }
      ],
      "source": [
        "# Load the evaluations.npz file\n",
        "evaluations = np.load(\"models/baseline/DQN/evaluations.npz\")\n",
        "\n",
        "# List the available keys\n",
        "print(f\"Keys in evaluations.npz: {evaluations.files}\")\n",
        "\n",
        "# Extract relevant data\n",
        "timesteps_baseline_dqn = evaluations['timesteps']/8  # Training steps\n",
        "results_baseline_dqn = evaluations['results'] # Mean rewards (or similar metrics)\n",
        "ep_lengths_baseline_dqn = evaluations['ep_lengths']  # Episode lengths\n"
      ]
    },
    {
      "cell_type": "markdown",
      "metadata": {
        "id": "4NvquZFGDryI"
      },
      "source": [
        "#### 3.1.2. Baseline PPO"
      ]
    },
    {
      "cell_type": "code",
      "execution_count": null,
      "metadata": {
        "id": "cTXhjrDqDryJ",
        "outputId": "ecfb51ba-7311-48cf-c0a5-48c628552e05"
      },
      "outputs": [
        {
          "name": "stdout",
          "output_type": "stream",
          "text": [
            "Keys in evaluations.npz: ['timesteps', 'results', 'ep_lengths']\n"
          ]
        }
      ],
      "source": [
        "# Load the evaluations.npz file\n",
        "evaluations = np.load(\"models/baseline/PPO/evaluations.npz\")\n",
        "\n",
        "# List the available keys\n",
        "print(f\"Keys in evaluations.npz: {evaluations.files}\")\n",
        "\n",
        "# Extract relevant data\n",
        "timesteps = evaluations['timesteps']  # Training steps\n",
        "results = evaluations['results']  # Mean rewards (or similar metrics)\n",
        "ep_lengths = evaluations['ep_lengths']  # Episode lengths\n"
      ]
    },
    {
      "cell_type": "markdown",
      "metadata": {
        "id": "RH-Y3asADryK"
      },
      "source": [
        "#### 3.1.3. Customized DQN"
      ]
    },
    {
      "cell_type": "code",
      "execution_count": null,
      "metadata": {
        "id": "Y_6xrxAiDryL",
        "outputId": "bc4da89c-5da4-47f5-9dcf-7944887064cc"
      },
      "outputs": [
        {
          "name": "stdout",
          "output_type": "stream",
          "text": [
            "Keys in evaluations.npz: ['timesteps', 'results', 'ep_lengths']\n"
          ]
        }
      ],
      "source": [
        "# Load the evaluations.npz file\n",
        "evaluations = np.load(\"models/custom/DQN/evaluations.npz\")\n",
        "\n",
        "# List the available keys\n",
        "print(f\"Keys in evaluations.npz: {evaluations.files}\")\n",
        "\n",
        "# Extract relevant data\n",
        "timesteps_custom_dqn = evaluations['timesteps']  # Training steps\n",
        "results_custom_dqn = evaluations['results']  # Mean rewards (or similar metrics)\n",
        "ep_lengths_custom_dqn = evaluations['ep_lengths']  # Episode lengths\n"
      ]
    },
    {
      "cell_type": "markdown",
      "metadata": {
        "id": "sD7gRLFvDryL"
      },
      "source": [
        "#### 3.1.4. Customized PPO"
      ]
    },
    {
      "cell_type": "code",
      "execution_count": null,
      "metadata": {
        "id": "HS6M4RCyDryM",
        "outputId": "4402406b-67be-4e16-f82b-4ad7535fb13b"
      },
      "outputs": [
        {
          "name": "stdout",
          "output_type": "stream",
          "text": [
            "Keys in evaluations.npz: ['timesteps', 'results', 'ep_lengths']\n"
          ]
        }
      ],
      "source": [
        "# Load the evaluations.npz file\n",
        "evaluations = np.load(\"models/custom/PPO/evaluations.npz\")\n",
        "\n",
        "# List the available keys\n",
        "print(f\"Keys in evaluations.npz: {evaluations.files}\")\n",
        "\n",
        "# Extract relevant data\n",
        "timesteps = evaluations['timesteps']  # Training steps\n",
        "results = evaluations['results']  # Mean rewards (or similar metrics)\n",
        "ep_lengths = evaluations['ep_lengths']  # Episode lengths\n"
      ]
    },
    {
      "cell_type": "code",
      "execution_count": null,
      "metadata": {
        "id": "R1xE9dSgDryM"
      },
      "outputs": [],
      "source": [
        "plot_mean_rewards(timesteps, results)"
      ]
    },
    {
      "cell_type": "code",
      "execution_count": null,
      "metadata": {
        "id": "Z_eZ__-nDryM"
      },
      "outputs": [],
      "source": [
        "plot_episode_lengths(timesteps, ep_lengths)"
      ]
    },
    {
      "cell_type": "markdown",
      "metadata": {
        "id": "7vS7tHOuDryN"
      },
      "source": [
        "### 3.2. Robustness and Adaptability"
      ]
    },
    {
      "cell_type": "markdown",
      "metadata": {
        "id": "itkARaLODryN"
      },
      "source": [
        "1. Robustness to Observation Noise:\n",
        "   - It runs `num_episodes` episodes with added Gaussian noise to the observations.\n",
        "   - For each step, it adds noise to the observation before predicting an action.\n",
        "   - It accumulates the total reward for each episode and stores it in `noise_rewards`.\n",
        "\n",
        "2. Robustness to Environment Perturbations:\n",
        "   - It runs another set of episodes, this time applying random perturbations to the environment.\n",
        "   - With probability `perturbation_prob`, it adds uniform random noise to the observation.\n",
        "   - It accumulates the total reward for each episode and stores it in `perturbation_rewards`.\n",
        "\n",
        "3. Results Computation and Output:\n",
        "   - For each robustness scenario, it calculates and prints the mean and standard deviation of the rewards.\n",
        "   \n",
        "This function is designed to evaluate how well the trained model performs under different types of perturbations and variations, which is crucial for assessing the robustness and generalization capabilities of the reinforcement learning agent."
      ]
    },
    {
      "cell_type": "code",
      "execution_count": 8,
      "metadata": {
        "id": "W521JJTnDryN"
      },
      "outputs": [],
      "source": [
        "def evaluate_robustness(model, env, num_episodes=10, noise_std=0.1, perturbation_prob=0.1):\n",
        "    \"\"\"\n",
        "    Evaluate the robustness of a trained model under various challenging conditions.\n",
        "\n",
        "    This function tests the model's ability to handle noisy observations, random perturbations,\n",
        "    and diverse initial states in the environment. Results include performance metrics such as\n",
        "    mean rewards and standard deviations under each condition.\n",
        "\n",
        "    Args:\n",
        "        model (BaseAlgorithm): ThKeysView(NpzFile './best_model/best_model_2.1.1.zip' with keys: data, pytorch_variables.pth, policy.pth, policy.optimizer.pth, _stable_baselines3_version...)e trained model to evaluate. Should support `.predict()` for action selection.\n",
        "        env (gym.Env): The environment in which the model will be tested.\n",
        "        num_episodes (int, optional): The number of episodes to run for each robustness scenario. Defaults to 10.\n",
        "        noise_std (float, optional): Standard deviation of Gaussian noise added to observations. Defaults to 0.1.\n",
        "        perturbation_prob (float, optional): Probability of applying random perturbations to observations. Defaults to 0.1.\n",
        "\n",
        "    Returns:\n",
        "        dict: A dictionary with keys:\n",
        "            - \"noise_rewards\": List of total rewards for episodes with noisy observations.\n",
        "            - \"perturbation_rewards\": List of total rewards for episodes with random perturbations.\n",
        "            - \"initial_state_rewards\": List of total rewards for episodes starting from diverse initial states.\n",
        "        Each list includes rewards from `num_episodes` episodes.\n",
        "    \"\"\"\n",
        "    results = {\n",
        "        \"noise_rewards\": [],\n",
        "        \"perturbation_rewards\": []\n",
        "    }\n",
        "\n",
        "    # Evaluate robustness to observation noise\n",
        "    print(\"Evaluating robustness to observation noise...\")\n",
        "    for _ in range(num_episodes):\n",
        "        print(f\"Running episode {_}\")\n",
        "        obs, _ = env.reset()\n",
        "        total_reward = 0\n",
        "        done = False\n",
        "        while not done:\n",
        "            # Add Gaussian noise to observation\n",
        "            noisy_obs = obs + np.random.normal(0, noise_std, obs.shape)\n",
        "            action = model.predict(noisy_obs, deterministic=True)[0]\n",
        "            obs, reward, done, _, _ = env.step(action)\n",
        "            total_reward += reward\n",
        "        results[\"noise_rewards\"].append(total_reward)\n",
        "        print(f\"Perturbation episode: Total Reward = {total_reward}\")  # For debugging\n",
        "\n",
        "    # Evaluate robustness to environment perturbations\n",
        "    print(\"Evaluating robustness to environment perturbations...\")\n",
        "    for _ in range(num_episodes):\n",
        "        print(f\"Running episode {_}\")\n",
        "        obs, _ = env.reset()\n",
        "        total_reward = 0\n",
        "        done = False\n",
        "        while not done:\n",
        "            action = model.predict(obs, deterministic=True)[0]\n",
        "\n",
        "            # Apply random perturbations\n",
        "            if np.random.random() < perturbation_prob:\n",
        "                obs = obs + np.random.uniform(-0.5, 0.5, obs.shape)\n",
        "\n",
        "            obs, reward, done, _, _ = env.step(action)\n",
        "            total_reward += reward\n",
        "        print(f\"Perturbation episode: Total Reward = {total_reward}\")  # For debugging purposes only, remove in production code.  # Evaluate robustness to environment perturb\n",
        "        results[\"perturbation_rewards\"].append(total_reward)\n",
        "\n",
        "    # Compute and return mean and standard deviation for all scenarios\n",
        "    for key in results:\n",
        "        rewards = np.array(results[key])\n",
        "        print(f\"{key}: Mean = {rewards.mean()}, Std Dev = {rewards.std()}\")\n",
        "    return results\n"
      ]
    },
    {
      "cell_type": "markdown",
      "metadata": {
        "id": "JmGH6yIADryO"
      },
      "source": [
        "#### 3.2.1 Baseline - DQN"
      ]
    },
    {
      "cell_type": "code",
      "source": [
        "best_model_baseline_dqn = DQN.load('./models/baseline/DQN/best_model.zip', allow_pickle=True)"
      ],
      "metadata": {
        "id": "g27LxvsQH4O1"
      },
      "execution_count": null,
      "outputs": []
    },
    {
      "cell_type": "code",
      "execution_count": null,
      "metadata": {
        "id": "R5at-23JDryP"
      },
      "outputs": [],
      "source": [
        "env = gym.make(\"CarRacing-v3\", continuous=False)"
      ]
    },
    {
      "cell_type": "code",
      "execution_count": null,
      "metadata": {
        "id": "8fkgjWNrDryP",
        "outputId": "70737a0f-730e-4121-f5b4-1a3b202177e7"
      },
      "outputs": [
        {
          "name": "stdout",
          "output_type": "stream",
          "text": [
            "Evaluating robustness to observation noise...\n",
            "Running episode 0\n",
            "Perturbation episode: Total Reward = 904.2999999999878\n",
            "Evaluating robustness to environment perturbations...\n",
            "Running episode 0\n",
            "Perturbation episode: Total Reward = 907.199999999989\n",
            "noise_rewards: Mean = 904.2999999999878, Std Dev = 0.0\n",
            "perturbation_rewards: Mean = 907.199999999989, Std Dev = 0.0\n"
          ]
        }
      ],
      "source": [
        "robustness_results_baseline_dqn = evaluate_robustness(best_model_baseline_dqn, env, num_episodes=1)"
      ]
    },
    {
      "cell_type": "code",
      "execution_count": null,
      "metadata": {
        "id": "3EhJBWj_DryQ",
        "outputId": "4f0f9a0b-8032-43b5-dcc0-31e25600e904"
      },
      "outputs": [
        {
          "name": "stdout",
          "output_type": "stream",
          "text": [
            "Evaluating robustness to observation noise...\n",
            "Running episode 0\n"
          ]
        }
      ],
      "source": [
        "foo = evaluate_robustness(best_model_baseline_dqn, env, num_episodes=1)"
      ]
    },
    {
      "cell_type": "code",
      "execution_count": null,
      "metadata": {
        "id": "95fvvzWQDryQ"
      },
      "outputs": [],
      "source": [
        "robustness_results_baseline_dqn['noise_rewards'].append(foo['noise_rewards'])\n",
        "robustness_results_baseline_dqn['perturbation_rewards'].append(foo['perturbation_rewards'])"
      ]
    },
    {
      "cell_type": "code",
      "execution_count": null,
      "metadata": {
        "id": "CiBajA-pDryR",
        "outputId": "4ae36671-0e2c-4083-c95d-8539c2ed8489"
      },
      "outputs": [
        {
          "data": {
            "text/plain": [
              "{'noise_rewards': [904.2999999999878,\n",
              "  [904.1999999999817],\n",
              "  [906.2999999999846],\n",
              "  [918.1999999999947],\n",
              "  [910.9999999999861],\n",
              "  [904.1999999999872],\n",
              "  [899.2999999999801],\n",
              "  [897.59999999998],\n",
              "  [907.7999999999837]],\n",
              " 'perturbation_rewards': [907.199999999989,\n",
              "  [813.7999999999624],\n",
              "  [910.8999999999858],\n",
              "  [908.7999999999888],\n",
              "  [811.2999999999612],\n",
              "  [830.1999999999729],\n",
              "  [902.2999999999854],\n",
              "  [901.7999999999914],\n",
              "  [815.0999999999631]]}"
            ]
          },
          "execution_count": 77,
          "metadata": {},
          "output_type": "execute_result"
        }
      ],
      "source": [
        "robustness_results_baseline_dqn"
      ]
    },
    {
      "cell_type": "code",
      "execution_count": null,
      "metadata": {
        "id": "iBh_VxEgDryS",
        "outputId": "f6644eb4-3c0f-4f06-b383-96dcfecdbfc0"
      },
      "outputs": [
        {
          "data": {
            "text/plain": [
              "9"
            ]
          },
          "execution_count": 78,
          "metadata": {},
          "output_type": "execute_result"
        }
      ],
      "source": [
        "len(robustness_results_baseline_dqn['noise_rewards'])"
      ]
    },
    {
      "cell_type": "code",
      "execution_count": null,
      "metadata": {
        "id": "nAzIT1q_DryS"
      },
      "outputs": [],
      "source": [
        "robustness_results_baseline_dqn = pd.DataFrame(robustness_results_baseline_dqn)\n",
        "robustness_results_baseline_dqn.to_csv('results/robustness_results_baseline_dqn.csv', index=False)"
      ]
    },
    {
      "cell_type": "code",
      "execution_count": null,
      "metadata": {
        "id": "g70bDCTKDryS",
        "outputId": "a8f8cab1-78b1-4385-828b-3819a15c4a35"
      },
      "outputs": [
        {
          "data": {
            "text/html": [
              "<div>\n",
              "<style scoped>\n",
              "    .dataframe tbody tr th:only-of-type {\n",
              "        vertical-align: middle;\n",
              "    }\n",
              "\n",
              "    .dataframe tbody tr th {\n",
              "        vertical-align: top;\n",
              "    }\n",
              "\n",
              "    .dataframe thead th {\n",
              "        text-align: right;\n",
              "    }\n",
              "</style>\n",
              "<table border=\"1\" class=\"dataframe\">\n",
              "  <thead>\n",
              "    <tr style=\"text-align: right;\">\n",
              "      <th></th>\n",
              "      <th>noise_rewards</th>\n",
              "      <th>perturbation_rewards</th>\n",
              "    </tr>\n",
              "  </thead>\n",
              "  <tbody>\n",
              "    <tr>\n",
              "      <th>0</th>\n",
              "      <td>914.1</td>\n",
              "      <td>907.2</td>\n",
              "    </tr>\n",
              "    <tr>\n",
              "      <th>1</th>\n",
              "      <td>823.0</td>\n",
              "      <td>718.9</td>\n",
              "    </tr>\n",
              "    <tr>\n",
              "      <th>2</th>\n",
              "      <td>844.3</td>\n",
              "      <td>897.7</td>\n",
              "    </tr>\n",
              "    <tr>\n",
              "      <th>3</th>\n",
              "      <td>908.7</td>\n",
              "      <td>916.7</td>\n",
              "    </tr>\n",
              "    <tr>\n",
              "      <th>4</th>\n",
              "      <td>914.0</td>\n",
              "      <td>905.1</td>\n",
              "    </tr>\n",
              "    <tr>\n",
              "      <th>5</th>\n",
              "      <td>912.1</td>\n",
              "      <td>835.9</td>\n",
              "    </tr>\n",
              "  </tbody>\n",
              "</table>\n",
              "</div>"
            ],
            "text/plain": [
              "   noise_rewards  perturbation_rewards\n",
              "0          914.1                 907.2\n",
              "1          823.0                 718.9\n",
              "2          844.3                 897.7\n",
              "3          908.7                 916.7\n",
              "4          914.0                 905.1\n",
              "5          912.1                 835.9"
            ]
          },
          "execution_count": 61,
          "metadata": {},
          "output_type": "execute_result"
        }
      ],
      "source": [
        "robustness_results_baseline_dqn = pd.read_csv('results/robustness_results_baseline_dqn.csv')\n",
        "robustness_results_baseline_dqn"
      ]
    },
    {
      "cell_type": "code",
      "execution_count": null,
      "metadata": {
        "id": "8ZFAfs_3DryS"
      },
      "outputs": [],
      "source": [
        "def clean_and_convert(value):\n",
        "    if isinstance(value, str):\n",
        "        value = value.strip('[]')\n",
        "    return float(value)"
      ]
    },
    {
      "cell_type": "code",
      "execution_count": null,
      "metadata": {
        "id": "P78Sy9y3DryT",
        "outputId": "e1b30e59-f244-4054-d46a-6c615cd36d35"
      },
      "outputs": [
        {
          "name": "stderr",
          "output_type": "stream",
          "text": [
            "/tmp/ipykernel_398771/4249244110.py:1: FutureWarning: DataFrame.applymap has been deprecated. Use DataFrame.map instead.\n",
            "  robustness_results_baseline_dqn = robustness_results_baseline_dqn.applymap(clean_and_convert)\n"
          ]
        },
        {
          "data": {
            "text/html": [
              "<div>\n",
              "<style scoped>\n",
              "    .dataframe tbody tr th:only-of-type {\n",
              "        vertical-align: middle;\n",
              "    }\n",
              "\n",
              "    .dataframe tbody tr th {\n",
              "        vertical-align: top;\n",
              "    }\n",
              "\n",
              "    .dataframe thead th {\n",
              "        text-align: right;\n",
              "    }\n",
              "</style>\n",
              "<table border=\"1\" class=\"dataframe\">\n",
              "  <thead>\n",
              "    <tr style=\"text-align: right;\">\n",
              "      <th></th>\n",
              "      <th>noise_rewards</th>\n",
              "      <th>perturbation_rewards</th>\n",
              "    </tr>\n",
              "  </thead>\n",
              "  <tbody>\n",
              "    <tr>\n",
              "      <th>0</th>\n",
              "      <td>914.1</td>\n",
              "      <td>907.2</td>\n",
              "    </tr>\n",
              "    <tr>\n",
              "      <th>1</th>\n",
              "      <td>823.0</td>\n",
              "      <td>718.9</td>\n",
              "    </tr>\n",
              "    <tr>\n",
              "      <th>2</th>\n",
              "      <td>844.3</td>\n",
              "      <td>897.7</td>\n",
              "    </tr>\n",
              "    <tr>\n",
              "      <th>3</th>\n",
              "      <td>908.7</td>\n",
              "      <td>916.7</td>\n",
              "    </tr>\n",
              "    <tr>\n",
              "      <th>4</th>\n",
              "      <td>914.0</td>\n",
              "      <td>905.1</td>\n",
              "    </tr>\n",
              "    <tr>\n",
              "      <th>5</th>\n",
              "      <td>912.1</td>\n",
              "      <td>835.9</td>\n",
              "    </tr>\n",
              "  </tbody>\n",
              "</table>\n",
              "</div>"
            ],
            "text/plain": [
              "   noise_rewards  perturbation_rewards\n",
              "0          914.1                 907.2\n",
              "1          823.0                 718.9\n",
              "2          844.3                 897.7\n",
              "3          908.7                 916.7\n",
              "4          914.0                 905.1\n",
              "5          912.1                 835.9"
            ]
          },
          "execution_count": 59,
          "metadata": {},
          "output_type": "execute_result"
        }
      ],
      "source": [
        "robustness_results_baseline_dqn = robustness_results_baseline_dqn.applymap(clean_and_convert)\n",
        "robustness_results_baseline_dqn"
      ]
    },
    {
      "cell_type": "markdown",
      "metadata": {
        "id": "hgKZ4HvTDryT"
      },
      "source": [
        "#### 3.2.2 Baseline - PPO"
      ]
    },
    {
      "cell_type": "code",
      "execution_count": 5,
      "metadata": {
        "id": "NWeqDt5pDryT"
      },
      "outputs": [],
      "source": [
        "best_model_baseline_ppo = PPO.load('/content/drive/MyDrive/reinforcement-learning-with-gymnasium-main/ppo_car_racing_model/PPO_baseline_logs/models/best_model.zip', allow_pickle=True)"
      ]
    },
    {
      "cell_type": "code",
      "source": [
        "env = gym.make(\"CarRacing-v3\", continuous=False)"
      ],
      "metadata": {
        "id": "U19E2Wa9Egca"
      },
      "execution_count": 6,
      "outputs": []
    },
    {
      "cell_type": "code",
      "source": [
        "class FrameStackCustom(gym.Wrapper):\n",
        "    def __init__(self, env, num_stack):\n",
        "        super(FrameStackCustom, self).__init__(env)\n",
        "        self.num_stack = num_stack\n",
        "        self.frames = np.zeros((num_stack, *env.observation_space.shape), dtype=np.uint8)\n",
        "        obs_shape = (num_stack,) + env.observation_space.shape\n",
        "        self.observation_space = gym.spaces.Box(0, 255, obs_shape, dtype=np.uint8)\n",
        "\n",
        "    def reset(self):\n",
        "        obs = self.env.reset()\n",
        "        self.frames[:] = obs\n",
        "        return self.frames\n",
        "\n",
        "    def step(self, action):\n",
        "        obs, reward, done, info = self.env.step(action)\n",
        "        self.frames = np.roll(self.frames, shift=-1, axis=0)\n",
        "        self.frames[-1] = obs\n",
        "        return self.frames, reward, done, info"
      ],
      "metadata": {
        "id": "iZadU5z0IMFU"
      },
      "execution_count": 32,
      "outputs": []
    },
    {
      "cell_type": "code",
      "source": [
        "env = ResizeObservation(env, (84, 84))\n",
        "env = GrayscaleObservation(env, keep_dim=True)"
      ],
      "metadata": {
        "id": "nCzTpra1E8-5"
      },
      "execution_count": 18,
      "outputs": []
    },
    {
      "cell_type": "code",
      "source": [
        "env = FrameStackCustom(env, num_stack=4)"
      ],
      "metadata": {
        "id": "PF0QXEXbH6nz"
      },
      "execution_count": 33,
      "outputs": []
    },
    {
      "cell_type": "code",
      "source": [],
      "metadata": {
        "id": "crybcfnjJtAq"
      },
      "execution_count": null,
      "outputs": []
    },
    {
      "cell_type": "markdown",
      "metadata": {
        "id": "kmxwC-bvDryT"
      },
      "source": [
        "#### 3.2.3 Custom Environment - DQN"
      ]
    },
    {
      "cell_type": "code",
      "execution_count": null,
      "metadata": {
        "id": "CL_wnmulDryU"
      },
      "outputs": [],
      "source": [
        "custom_env = EnhancedCarRacing(render_mode=\"rgb_array\")\n",
        "custom_env = GrayscaleObservation(custom_env, keep_dim=True)"
      ]
    },
    {
      "cell_type": "code",
      "execution_count": null,
      "metadata": {
        "id": "iuqT3nkkDryU",
        "outputId": "3a9fe00a-a85c-491a-8664-c69c2982b9b0"
      },
      "outputs": [
        {
          "name": "stderr",
          "output_type": "stream",
          "text": [
            "[W1218 20:29:59.936213148 NNPACK.cpp:61] Could not initialize NNPACK! Reason: Unsupported hardware.\n"
          ]
        }
      ],
      "source": [
        "best_model_custom_dqn = DQN.load('./models/custom/DQN/best_model.zip', allow_pickle=True)"
      ]
    },
    {
      "cell_type": "code",
      "execution_count": null,
      "metadata": {
        "id": "_-u6CIslDryU",
        "outputId": "72b79d9a-1a55-4aa1-b14f-1c3a71930d85"
      },
      "outputs": [
        {
          "name": "stdout",
          "output_type": "stream",
          "text": [
            "Evaluating robustness to observation noise...\n",
            "Running episode 0\n",
            "Perturbation episode: Total Reward = -7759.953796605264\n",
            "Evaluating robustness to environment perturbations...\n",
            "Running episode 0\n",
            "Perturbation episode: Total Reward = -4434.551418120928\n",
            "noise_rewards: Mean = -7759.953796605264, Std Dev = 0.0\n",
            "perturbation_rewards: Mean = -4434.551418120928, Std Dev = 0.0\n"
          ]
        }
      ],
      "source": [
        "robustness_results_custom_dqn = evaluate_robustness(best_model_custom_dqn, custom_env, num_episodes=1)"
      ]
    },
    {
      "cell_type": "code",
      "execution_count": null,
      "metadata": {
        "id": "nf6Cr9ZwDryU",
        "outputId": "8c090e19-cab3-447a-f2dd-fc83bf26b57c"
      },
      "outputs": [
        {
          "name": "stdout",
          "output_type": "stream",
          "text": [
            "Evaluating robustness to observation noise...\n",
            "Running episode 0\n",
            "Perturbation episode: Total Reward = -7584.80748308475\n",
            "Running episode 1\n",
            "Perturbation episode: Total Reward = -3840.5075875620796\n",
            "Running episode 2\n",
            "Perturbation episode: Total Reward = -7460.315858936726\n",
            "Running episode 3\n",
            "Perturbation episode: Total Reward = -7861.306102609049\n",
            "Running episode 4\n",
            "Perturbation episode: Total Reward = -7541.33890571855\n",
            "Evaluating robustness to environment perturbations...\n",
            "Running episode 0\n",
            "Perturbation episode: Total Reward = -7514.179581865233\n",
            "Running episode 1\n",
            "Perturbation episode: Total Reward = -3519.7626820016026\n",
            "Running episode 2\n",
            "Perturbation episode: Total Reward = -7947.5827114948215\n",
            "Running episode 3\n",
            "Perturbation episode: Total Reward = -9068.230437492533\n",
            "Running episode 4\n",
            "Perturbation episode: Total Reward = -4008.980884820603\n",
            "noise_rewards: Mean = -6857.655187582231, Std Dev = 1514.5869781322078\n",
            "perturbation_rewards: Mean = -6411.747259534958, Std Dev = 2225.664461851139\n"
          ]
        }
      ],
      "source": [
        "foo = evaluate_robustness(best_model_custom_dqn, custom_env, num_episodes=5)"
      ]
    },
    {
      "cell_type": "code",
      "execution_count": null,
      "metadata": {
        "id": "vGCx7shxDryV"
      },
      "outputs": [],
      "source": [
        "robustness_results_custom_dqn['noise_rewards'].append(foo['noise_rewards'])\n",
        "robustness_results_custom_dqn['perturbation_rewards'].append(foo['perturbation_rewards'])"
      ]
    },
    {
      "cell_type": "code",
      "execution_count": null,
      "metadata": {
        "id": "VZ7prSWoDryV",
        "outputId": "9b5131ad-5af6-4b91-b4f7-7498b7692bf9"
      },
      "outputs": [
        {
          "data": {
            "text/plain": [
              "{'noise_rewards': [-7759.953796605264,\n",
              "  [-7858.43471366518],\n",
              "  [-4357.975981461611],\n",
              "  [-7663.295497849881],\n",
              "  [-8118.9301815847275],\n",
              "  [-7584.80748308475,\n",
              "   -3840.5075875620796,\n",
              "   -7460.315858936726,\n",
              "   -7861.306102609049,\n",
              "   -7541.33890571855]],\n",
              " 'perturbation_rewards': [-4434.551418120928,\n",
              "  [-7241.206349396435],\n",
              "  [-7743.716855095754],\n",
              "  [-7901.444085518807],\n",
              "  [-7828.554151708476],\n",
              "  [-7514.179581865233,\n",
              "   -3519.7626820016026,\n",
              "   -7947.5827114948215,\n",
              "   -9068.230437492533,\n",
              "   -4008.980884820603]]}"
            ]
          },
          "execution_count": 51,
          "metadata": {},
          "output_type": "execute_result"
        }
      ],
      "source": [
        "robustness_results_custom_dqn"
      ]
    },
    {
      "cell_type": "code",
      "execution_count": null,
      "metadata": {
        "id": "0x0HKa7TDryV",
        "outputId": "3b8e84ab-4188-4e3a-d200-0c47c93c0ba6"
      },
      "outputs": [
        {
          "data": {
            "text/html": [
              "<div>\n",
              "<style scoped>\n",
              "    .dataframe tbody tr th:only-of-type {\n",
              "        vertical-align: middle;\n",
              "    }\n",
              "\n",
              "    .dataframe tbody tr th {\n",
              "        vertical-align: top;\n",
              "    }\n",
              "\n",
              "    .dataframe thead th {\n",
              "        text-align: right;\n",
              "    }\n",
              "</style>\n",
              "<table border=\"1\" class=\"dataframe\">\n",
              "  <thead>\n",
              "    <tr style=\"text-align: right;\">\n",
              "      <th></th>\n",
              "      <th>noise_rewards</th>\n",
              "      <th>perturbation_rewards</th>\n",
              "    </tr>\n",
              "  </thead>\n",
              "  <tbody>\n",
              "    <tr>\n",
              "      <th>0</th>\n",
              "      <td>-7759.953796605264</td>\n",
              "      <td>-4434.551418120928</td>\n",
              "    </tr>\n",
              "    <tr>\n",
              "      <th>1</th>\n",
              "      <td>[-7858.43471366518]</td>\n",
              "      <td>[-7241.206349396435]</td>\n",
              "    </tr>\n",
              "    <tr>\n",
              "      <th>2</th>\n",
              "      <td>[-4357.975981461611]</td>\n",
              "      <td>[-7743.716855095754]</td>\n",
              "    </tr>\n",
              "    <tr>\n",
              "      <th>3</th>\n",
              "      <td>[-7663.295497849881]</td>\n",
              "      <td>[-7901.444085518807]</td>\n",
              "    </tr>\n",
              "    <tr>\n",
              "      <th>4</th>\n",
              "      <td>[-8118.9301815847275]</td>\n",
              "      <td>[-7828.554151708476]</td>\n",
              "    </tr>\n",
              "    <tr>\n",
              "      <th>5</th>\n",
              "      <td>[-7584.80748308475, -3840.5075875620796, -7460...</td>\n",
              "      <td>[-7514.179581865233, -3519.7626820016026, -794...</td>\n",
              "    </tr>\n",
              "  </tbody>\n",
              "</table>\n",
              "</div>"
            ],
            "text/plain": [
              "                                       noise_rewards  \\\n",
              "0                                 -7759.953796605264   \n",
              "1                                [-7858.43471366518]   \n",
              "2                               [-4357.975981461611]   \n",
              "3                               [-7663.295497849881]   \n",
              "4                              [-8118.9301815847275]   \n",
              "5  [-7584.80748308475, -3840.5075875620796, -7460...   \n",
              "\n",
              "                                perturbation_rewards  \n",
              "0                                 -4434.551418120928  \n",
              "1                               [-7241.206349396435]  \n",
              "2                               [-7743.716855095754]  \n",
              "3                               [-7901.444085518807]  \n",
              "4                               [-7828.554151708476]  \n",
              "5  [-7514.179581865233, -3519.7626820016026, -794...  "
            ]
          },
          "execution_count": 52,
          "metadata": {},
          "output_type": "execute_result"
        }
      ],
      "source": [
        "robustness_results_custom_dqn = pd.DataFrame(robustness_results_custom_dqn)\n",
        "robustness_results_custom_dqn.to_csv('results/robustness_results_custom_dqn.csv', index=False)\n",
        "robustness_results_custom_dqn = pd.read_csv('results/robustness_results_custom_dqn.csv')\n",
        "robustness_results_custom_dqn"
      ]
    },
    {
      "cell_type": "markdown",
      "metadata": {
        "id": "QFnV1Fc3DryV"
      },
      "source": [
        "#### 3.2.4 Custom Environment - PPO"
      ]
    },
    {
      "cell_type": "markdown",
      "metadata": {
        "id": "5xVMXc9JDryZ"
      },
      "source": [
        "---"
      ]
    },
    {
      "cell_type": "code",
      "execution_count": null,
      "metadata": {
        "id": "F4ltjq-QDryZ"
      },
      "outputs": [],
      "source": [
        "# Simulated or pre-loaded CSV paths\n",
        "# Replace these with your actual file paths\n",
        "baseline_dqn = pd.read_csv('results/robustness_results_baseline_dqn.csv')\n",
        "baseline_ppo = pd.read_csv('results/robustness_results_baseline_ppo.csv')\n",
        "custom_dqn = pd.read_csv('results/robustness_results_custom_dqn.csv')\n",
        "custom_ppo = pd.read_csv('results/robustness_results_custom_ppo.csv')\n",
        "\n",
        "# Calculate the mean of rewards for each model\n",
        "noise_means = {\n",
        "    \"Baseline DQN\": baseline_dqn[\"noise_rewards\"].mean(),\n",
        "    \"Baseline PPO\": baseline_ppo[\"noise_rewards\"].mean(),\n",
        "    \"Custom DQN\": custom_dqn[\"noise_rewards\"].mean(),\n",
        "    \"Custom PPO\": custom_ppo[\"noise_rewards\"].mean(),\n",
        "}\n",
        "\n",
        "perturbation_means = {\n",
        "    \"Baseline DQN\": baseline_dqn[\"perturbation_rewards\"].mean(),\n",
        "    \"Baseline PPO\": baseline_ppo[\"perturbation_rewards\"].mean(),\n",
        "    \"Custom DQN\": custom_dqn[\"perturbation_rewards\"].mean(),\n",
        "    \"Custom PPO\": custom_ppo[\"perturbation_rewards\"].mean(),\n",
        "}\n",
        "\n",
        "# Plot histogram for noise rewards\n",
        "plt.figure(figsize=(10, 5))\n",
        "plt.bar(noise_means.keys(), noise_means.values(), color=['blue', 'green', 'orange', 'red'])\n",
        "plt.title(\"Comparison of Mean Noise Rewards\")\n",
        "plt.ylabel(\"Mean Noise Reward\")\n",
        "plt.xlabel(\"Models\")\n",
        "plt.show()\n",
        "\n",
        "# Plot histogram for perturbation rewards\n",
        "plt.figure(figsize=(10, 5))\n",
        "plt.bar(perturbation_means.keys(), perturbation_means.values(), color=['blue', 'green', 'orange', 'red'])\n",
        "plt.title(\"Comparison of Mean Perturbation Rewards\")\n",
        "plt.ylabel(\"Mean Perturbation Reward\")\n",
        "plt.xlabel(\"Models\")\n",
        "plt.show()\n"
      ]
    }
  ],
  "metadata": {
    "kernelspec": {
      "display_name": ".venv",
      "language": "python",
      "name": "python3"
    },
    "language_info": {
      "codemirror_mode": {
        "name": "ipython",
        "version": 3
      },
      "file_extension": ".py",
      "mimetype": "text/x-python",
      "name": "python",
      "nbconvert_exporter": "python",
      "pygments_lexer": "ipython3",
      "version": "3.10.12"
    },
    "colab": {
      "provenance": []
    }
  },
  "nbformat": 4,
  "nbformat_minor": 0
}