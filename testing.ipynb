{
 "cells": [
  {
   "cell_type": "code",
   "execution_count": null,
   "metadata": {},
   "outputs": [],
   "source": [
    "import numpy as np"
   ]
  },
  {
   "cell_type": "markdown",
   "metadata": {},
   "source": [
    "### 3.1. Task Specific Metrics"
   ]
  },
  {
   "cell_type": "code",
   "execution_count": 2,
   "metadata": {},
   "outputs": [],
   "source": [
    "\n",
    "class TaskMetrics:\n",
    "    def __init__(self, env, model, num_episodes=100, success_threshold=200):\n",
    "        \"\"\"\n",
    "        Initialize the metrics calculation class.\n",
    "        \n",
    "        Parameters:\n",
    "        - env: Gym environment.\n",
    "        - model: Trained RL model.\n",
    "        - num_episodes: Number of episodes to evaluate the model on.\n",
    "        - success_threshold: Reward threshold to consider an episode successful.\n",
    "        \"\"\"\n",
    "        self.env = env\n",
    "        self.model = model\n",
    "        self.num_episodes = num_episodes\n",
    "        self.success_threshold = success_threshold\n",
    "        self.results = []\n",
    "\n",
    "    def evaluate(self):\n",
    "        \"\"\"\n",
    "        Run the model in the environment for a set number of episodes\n",
    "        and collect metrics.\n",
    "        \"\"\"\n",
    "        total_rewards = []\n",
    "        success_count = 0\n",
    "        total_distance = 0\n",
    "\n",
    "        for episode in range(self.num_episodes):\n",
    "            obs = self.env.reset()\n",
    "            episode_reward = 0\n",
    "            episode_distance = 0\n",
    "            done = False\n",
    "\n",
    "            while not done:\n",
    "                # Predict the action from the model\n",
    "                action, _ = self.model.predict(obs, deterministic=True)\n",
    "                obs, reward, done, info = self.env.step(action)\n",
    "                \n",
    "                # Accumulate metrics\n",
    "                episode_reward += reward\n",
    "                episode_distance += info.get('distance', 0)  # Assuming 'distance' in info\n",
    "\n",
    "            total_rewards.append(episode_reward)\n",
    "            total_distance += episode_distance\n",
    "            if episode_reward >= self.success_threshold:\n",
    "                success_count += 1\n",
    "\n",
    "        # Store results\n",
    "        self.results = {\n",
    "            \"mean_reward\": np.mean(total_rewards),\n",
    "            \"success_rate\": success_count / self.num_episodes,\n",
    "            \"total_distance\": total_distance / self.num_episodes,\n",
    "            \"reward_variance\": np.var(total_rewards),\n",
    "        }\n",
    "\n",
    "    def get_results(self):\n",
    "        \"\"\"\n",
    "        Return the computed metrics.\n",
    "        \"\"\"\n",
    "        if not self.results:\n",
    "            raise ValueError(\"Run `evaluate` method before fetching results.\")\n",
    "        return self.results\n"
   ]
  },
  {
   "cell_type": "code",
   "execution_count": null,
   "metadata": {},
   "outputs": [],
   "source": []
  }
 ],
 "metadata": {
  "kernelspec": {
   "display_name": ".venv",
   "language": "python",
   "name": "python3"
  },
  "language_info": {
   "codemirror_mode": {
    "name": "ipython",
    "version": 3
   },
   "file_extension": ".py",
   "mimetype": "text/x-python",
   "name": "python",
   "nbconvert_exporter": "python",
   "pygments_lexer": "ipython3",
   "version": "3.10.12"
  }
 },
 "nbformat": 4,
 "nbformat_minor": 2
}
